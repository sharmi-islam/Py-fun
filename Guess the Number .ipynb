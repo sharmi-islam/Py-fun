{
 "cells": [
  {
   "cell_type": "code",
   "execution_count": 1,
   "id": "b8da35d2",
   "metadata": {},
   "outputs": [],
   "source": [
    "import random"
   ]
  },
  {
   "cell_type": "code",
   "execution_count": 2,
   "id": "9ae49095",
   "metadata": {},
   "outputs": [],
   "source": [
    "#guess by user\n",
    "def guess(X):\n",
    "    random_number = random.randint(1, X)\n",
    "    guess = 0\n",
    "    while guess!= random_number:\n",
    "        guess = int(input(f'Guess a number between 1 nad {X}: '))\n",
    "        if guess < random_number:\n",
    "            print ('Sorry, guess again.Too low.')\n",
    "        elif guess>random_number:\n",
    "            print(\"Sorry.guess again.Too high.\")\n",
    "    print(f'Yay,Congrats.You have guessed the number{random_number} correctly!!')\n"
   ]
  },
  {
   "cell_type": "code",
   "execution_count": null,
   "id": "51b1ed69",
   "metadata": {},
   "outputs": [],
   "source": [
    " guess(10)"
   ]
  },
  {
   "cell_type": "code",
   "execution_count": null,
   "id": "0f0f05d0",
   "metadata": {},
   "outputs": [],
   "source": [
    "#guise by computer\n",
    "def computer_guess(X):\n",
    "    Low = 1\n",
    "    high = X\n",
    "    feedback= ''\n",
    "    while feedback!= 'c':\n",
    "        if Low != high:\n",
    "            guess=random.randint(Low, high)\n",
    "        else:\n",
    "            guess=Low\n",
    "        feedback = input (f'Is{guess}too high(H),too low(L),or correctly(C)??').lower()\n",
    "        if feedback =='h':\n",
    "            high = guess-1\n",
    "        elif feedback == 'l':\n",
    "            Low=guess+1\n",
    "    print(f'Yay! The computer guess the number {guess},correctly!')"
   ]
  },
  {
   "cell_type": "code",
   "execution_count": null,
   "id": "4944bea4",
   "metadata": {},
   "outputs": [],
   "source": [
    "computer_guess(10)"
   ]
  },
  {
   "cell_type": "code",
   "execution_count": null,
   "id": "6a9572dc",
   "metadata": {},
   "outputs": [],
   "source": []
  }
 ],
 "metadata": {
  "kernelspec": {
   "display_name": "Python 3",
   "language": "python",
   "name": "python3"
  },
  "language_info": {
   "codemirror_mode": {
    "name": "ipython",
    "version": 3
   },
   "file_extension": ".py",
   "mimetype": "text/x-python",
   "name": "python",
   "nbconvert_exporter": "python",
   "pygments_lexer": "ipython3",
   "version": "3.9.4"
  }
 },
 "nbformat": 4,
 "nbformat_minor": 5
}
